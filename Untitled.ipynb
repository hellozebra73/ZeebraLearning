{
 "cells": [
  {
   "cell_type": "code",
   "execution_count": 57,
   "id": "prime-cameroon",
   "metadata": {},
   "outputs": [
    {
     "name": "stdout",
     "output_type": "stream",
     "text": [
      "torch.Size([30, 14, 400]) embeding\n",
      "0.048004865646362305 tiempo\n"
     ]
    },
    {
     "data": {
      "text/plain": [
       "tensor([[-0.0040,  0.0326, -0.0798,  ..., -0.0658,  0.1042, -0.0491],\n",
       "        [ 0.0504, -0.0342, -0.0216,  ...,  0.0351, -0.0212,  0.0093],\n",
       "        [ 0.0696,  0.0983, -0.0232,  ..., -0.0841,  0.1182, -0.0436],\n",
       "        ...,\n",
       "        [ 0.1774,  0.1424, -0.0626,  ...,  0.0676,  0.0481, -0.0297],\n",
       "        [ 0.0173,  0.0298, -0.0018,  ..., -0.0344, -0.0122,  0.0246],\n",
       "        [ 0.0678,  0.0970, -0.1198,  ..., -0.0409, -0.1247, -0.0502]],\n",
       "       grad_fn=<AddmmBackward>)"
      ]
     },
     "execution_count": 57,
     "metadata": {},
     "output_type": "execute_result"
    }
   ],
   "source": [
    "import torch\n",
    "from torch import nn\n",
    "import torch.nn.functional as F\n",
    "import numpy as np\n",
    "import time\n",
    "\n",
    "\n",
    "\n",
    "class RNNModel(nn.Module):\n",
    "    def __init__(self, vocab_size,embed_size,hidden_dim,num_outputs,batch_size):\n",
    "        super().__init__()\n",
    "        self.vocab_size=vocab_size\n",
    "        self.embed_size=embed_size\n",
    "        self.hidden_dim=hidden_dim\n",
    "        self.num_outputs=num_outputs\n",
    "        self.batch_size=batch_size\n",
    "        self._embed = nn.Embedding(vocab_size, embed_size)\n",
    "        self.rnn = nn.LSTM(embed_size, hidden_dim,batch_first=True, dropout=0.01)\n",
    "        self._output = nn.Linear(hidden_dim, num_outputs)\n",
    "\n",
    "    def forward(self):\n",
    "\n",
    "\n",
    "        tokens=torch.from_numpy(self.testArray())\n",
    "        start = time.time()\n",
    "        embeds = self._embed(tokens)\n",
    "        print(embeds.size(),\"embeding\")\n",
    "        hidden,_=self.rnn(embeds)\n",
    "#         embeds = nn.utils.rnn.pack_padded_sequence(embeds, lengths, batch_first=True, enforce_sorted=False)\n",
    "        linear=self._output(hidden[-1])\n",
    "       # print(linear.size(),\"linear\")\n",
    "\n",
    "        end = time.time()\n",
    "        print(end - start,\"tiempo\")\n",
    "        \n",
    "       \n",
    "        return linear\n",
    "    def testArray(self):\n",
    "        sentence_length=np.random.randint(5,15)\n",
    "        return np.random.randint(0,self.vocab_size,(self.batch_size,sentence_length))\n",
    "\n",
    "modelo=RNNModel(vocab_size=1000,embed_size=400,hidden_dim=300,num_outputs=200,batch_size=30)\n",
    "modelo()\n"
   ]
  },
  {
   "cell_type": "code",
   "execution_count": null,
   "id": "hearing-partition",
   "metadata": {},
   "outputs": [],
   "source": []
  },
  {
   "cell_type": "code",
   "execution_count": null,
   "id": "handy-curve",
   "metadata": {},
   "outputs": [],
   "source": []
  },
  {
   "cell_type": "code",
   "execution_count": null,
   "id": "rural-catholic",
   "metadata": {},
   "outputs": [],
   "source": []
  }
 ],
 "metadata": {
  "kernelspec": {
   "display_name": "Python 3",
   "language": "python",
   "name": "python3"
  },
  "language_info": {
   "codemirror_mode": {
    "name": "ipython",
    "version": 3
   },
   "file_extension": ".py",
   "mimetype": "text/x-python",
   "name": "python",
   "nbconvert_exporter": "python",
   "pygments_lexer": "ipython3",
   "version": "3.9.2"
  }
 },
 "nbformat": 4,
 "nbformat_minor": 5
}
